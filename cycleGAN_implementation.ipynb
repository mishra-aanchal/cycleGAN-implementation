{
  "nbformat": 4,
  "nbformat_minor": 5,
  "metadata": {
    "kernelspec": {
      "display_name": "Python 3",
      "language": "python",
      "name": "python3"
    },
    "language_info": {
      "codemirror_mode": {
        "name": "ipython",
        "version": 3
      },
      "file_extension": ".py",
      "mimetype": "text/x-python",
      "name": "python",
      "nbconvert_exporter": "python",
      "pygments_lexer": "ipython3",
      "version": "3.7.8"
    },
    "colab": {
      "name": "cycleGAN implementation.ipynb",
      "provenance": [],
      "include_colab_link": true
    },
    "widgets": {
      "application/vnd.jupyter.widget-state+json": {
        "3b29e53b2cf544c58f01f4ba919a283a": {
          "model_module": "@jupyter-widgets/controls",
          "model_name": "HBoxModel",
          "state": {
            "_view_name": "HBoxView",
            "_dom_classes": [],
            "_model_name": "HBoxModel",
            "_view_module": "@jupyter-widgets/controls",
            "_model_module_version": "1.5.0",
            "_view_count": null,
            "_view_module_version": "1.5.0",
            "box_style": "",
            "layout": "IPY_MODEL_dd633de9d42c469bac1b9b6f08b43e7d",
            "_model_module": "@jupyter-widgets/controls",
            "children": [
              "IPY_MODEL_f3d623f12fb44736a73b860f3fa35fbd",
              "IPY_MODEL_31acf36facab4070b693abc3430fbd00"
            ]
          }
        },
        "dd633de9d42c469bac1b9b6f08b43e7d": {
          "model_module": "@jupyter-widgets/base",
          "model_name": "LayoutModel",
          "state": {
            "_view_name": "LayoutView",
            "grid_template_rows": null,
            "right": null,
            "justify_content": null,
            "_view_module": "@jupyter-widgets/base",
            "overflow": null,
            "_model_module_version": "1.2.0",
            "_view_count": null,
            "flex_flow": null,
            "width": null,
            "min_width": null,
            "border": null,
            "align_items": null,
            "bottom": null,
            "_model_module": "@jupyter-widgets/base",
            "top": null,
            "grid_column": null,
            "overflow_y": null,
            "overflow_x": null,
            "grid_auto_flow": null,
            "grid_area": null,
            "grid_template_columns": null,
            "flex": null,
            "_model_name": "LayoutModel",
            "justify_items": null,
            "grid_row": null,
            "max_height": null,
            "align_content": null,
            "visibility": null,
            "align_self": null,
            "height": null,
            "min_height": null,
            "padding": null,
            "grid_auto_rows": null,
            "grid_gap": null,
            "max_width": null,
            "order": null,
            "_view_module_version": "1.2.0",
            "grid_template_areas": null,
            "object_position": null,
            "object_fit": null,
            "grid_auto_columns": null,
            "margin": null,
            "display": null,
            "left": null
          }
        },
        "f3d623f12fb44736a73b860f3fa35fbd": {
          "model_module": "@jupyter-widgets/controls",
          "model_name": "FloatProgressModel",
          "state": {
            "_view_name": "ProgressView",
            "style": "IPY_MODEL_0d7bbfbe727f45a2ab989449e20268f3",
            "_dom_classes": [],
            "description": "Dl Completed...: 100%",
            "_model_name": "FloatProgressModel",
            "bar_style": "success",
            "max": 4,
            "_view_module": "@jupyter-widgets/controls",
            "_model_module_version": "1.5.0",
            "value": 4,
            "_view_count": null,
            "_view_module_version": "1.5.0",
            "orientation": "horizontal",
            "min": 0,
            "description_tooltip": null,
            "_model_module": "@jupyter-widgets/controls",
            "layout": "IPY_MODEL_09549f39f3874a6e8ae2e82e9d3aa053"
          }
        },
        "31acf36facab4070b693abc3430fbd00": {
          "model_module": "@jupyter-widgets/controls",
          "model_name": "HTMLModel",
          "state": {
            "_view_name": "HTMLView",
            "style": "IPY_MODEL_946be4fbaef940988e2fa474b6bc4f39",
            "_dom_classes": [],
            "description": "",
            "_model_name": "HTMLModel",
            "placeholder": "​",
            "_view_module": "@jupyter-widgets/controls",
            "_model_module_version": "1.5.0",
            "value": " 4/4 [00:20&lt;00:00,  5.04s/ file]",
            "_view_count": null,
            "_view_module_version": "1.5.0",
            "description_tooltip": null,
            "_model_module": "@jupyter-widgets/controls",
            "layout": "IPY_MODEL_fa4e55d35d8d4f62bf7409bd558f3127"
          }
        },
        "0d7bbfbe727f45a2ab989449e20268f3": {
          "model_module": "@jupyter-widgets/controls",
          "model_name": "ProgressStyleModel",
          "state": {
            "_view_name": "StyleView",
            "_model_name": "ProgressStyleModel",
            "description_width": "initial",
            "_view_module": "@jupyter-widgets/base",
            "_model_module_version": "1.5.0",
            "_view_count": null,
            "_view_module_version": "1.2.0",
            "bar_color": null,
            "_model_module": "@jupyter-widgets/controls"
          }
        },
        "09549f39f3874a6e8ae2e82e9d3aa053": {
          "model_module": "@jupyter-widgets/base",
          "model_name": "LayoutModel",
          "state": {
            "_view_name": "LayoutView",
            "grid_template_rows": null,
            "right": null,
            "justify_content": null,
            "_view_module": "@jupyter-widgets/base",
            "overflow": null,
            "_model_module_version": "1.2.0",
            "_view_count": null,
            "flex_flow": null,
            "width": null,
            "min_width": null,
            "border": null,
            "align_items": null,
            "bottom": null,
            "_model_module": "@jupyter-widgets/base",
            "top": null,
            "grid_column": null,
            "overflow_y": null,
            "overflow_x": null,
            "grid_auto_flow": null,
            "grid_area": null,
            "grid_template_columns": null,
            "flex": null,
            "_model_name": "LayoutModel",
            "justify_items": null,
            "grid_row": null,
            "max_height": null,
            "align_content": null,
            "visibility": null,
            "align_self": null,
            "height": null,
            "min_height": null,
            "padding": null,
            "grid_auto_rows": null,
            "grid_gap": null,
            "max_width": null,
            "order": null,
            "_view_module_version": "1.2.0",
            "grid_template_areas": null,
            "object_position": null,
            "object_fit": null,
            "grid_auto_columns": null,
            "margin": null,
            "display": null,
            "left": null
          }
        },
        "946be4fbaef940988e2fa474b6bc4f39": {
          "model_module": "@jupyter-widgets/controls",
          "model_name": "DescriptionStyleModel",
          "state": {
            "_view_name": "StyleView",
            "_model_name": "DescriptionStyleModel",
            "description_width": "",
            "_view_module": "@jupyter-widgets/base",
            "_model_module_version": "1.5.0",
            "_view_count": null,
            "_view_module_version": "1.2.0",
            "_model_module": "@jupyter-widgets/controls"
          }
        },
        "fa4e55d35d8d4f62bf7409bd558f3127": {
          "model_module": "@jupyter-widgets/base",
          "model_name": "LayoutModel",
          "state": {
            "_view_name": "LayoutView",
            "grid_template_rows": null,
            "right": null,
            "justify_content": null,
            "_view_module": "@jupyter-widgets/base",
            "overflow": null,
            "_model_module_version": "1.2.0",
            "_view_count": null,
            "flex_flow": null,
            "width": null,
            "min_width": null,
            "border": null,
            "align_items": null,
            "bottom": null,
            "_model_module": "@jupyter-widgets/base",
            "top": null,
            "grid_column": null,
            "overflow_y": null,
            "overflow_x": null,
            "grid_auto_flow": null,
            "grid_area": null,
            "grid_template_columns": null,
            "flex": null,
            "_model_name": "LayoutModel",
            "justify_items": null,
            "grid_row": null,
            "max_height": null,
            "align_content": null,
            "visibility": null,
            "align_self": null,
            "height": null,
            "min_height": null,
            "padding": null,
            "grid_auto_rows": null,
            "grid_gap": null,
            "max_width": null,
            "order": null,
            "_view_module_version": "1.2.0",
            "grid_template_areas": null,
            "object_position": null,
            "object_fit": null,
            "grid_auto_columns": null,
            "margin": null,
            "display": null,
            "left": null
          }
        }
      }
    }
  },
  "cells": [
    {
      "cell_type": "markdown",
      "metadata": {
        "id": "view-in-github",
        "colab_type": "text"
      },
      "source": [
        "<a href=\"https://colab.research.google.com/github/mishra-aanchal/cycleGAN-implementation/blob/main/cycleGAN_implementation.ipynb\" target=\"_parent\"><img src=\"https://colab.research.google.com/assets/colab-badge.svg\" alt=\"Open In Colab\"/></a>"
      ]
    },
    {
      "cell_type": "code",
      "metadata": {
        "colab": {
          "base_uri": "https://localhost:8080/"
        },
        "id": "given-palmer",
        "outputId": "f6998880-ddc6-4bd2-8b7a-128122081a13"
      },
      "source": [
        "!wget https://newsmeter.in/wp-content/uploads/2020/06/New-Project-25.jpg\n",
        "!wget http://fashion-mnist.s3-website.eu-central-1.amazonaws.com/train-labels-idx1-ubyte.gz\n",
        "!wget http://fashion-mnist.s3-website.eu-central-1.amazonaws.com/t10k-images-idx3-ubyte.gz\n",
        "!wget http://fashion-mnist.s3-website.eu-central-1.amazonaws.com/t10k-labels-idx1-ubyte.gz\n"
      ],
      "id": "given-palmer",
      "execution_count": 10,
      "outputs": [
        {
          "output_type": "stream",
          "text": [
            "--2021-03-15 08:54:27--  https://newsmeter.in/wp-content/uploads/2020/06/New-Project-25.jpg\n",
            "Resolving newsmeter.in (newsmeter.in)... 104.21.79.201, 172.67.147.211, 2606:4700:3031::6815:4fc9, ...\n",
            "Connecting to newsmeter.in (newsmeter.in)|104.21.79.201|:443... connected.\n",
            "HTTP request sent, awaiting response... 200 OK\n",
            "Length: 31584 (31K) [image/jpeg]\n",
            "Saving to: ‘New-Project-25.jpg.2’\n",
            "\n",
            "\rNew-Project-25.jpg.   0%[                    ]       0  --.-KB/s               \rNew-Project-25.jpg. 100%[===================>]  30.84K  --.-KB/s    in 0.006s  \n",
            "\n",
            "2021-03-15 08:54:27 (5.09 MB/s) - ‘New-Project-25.jpg.2’ saved [31584/31584]\n",
            "\n"
          ],
          "name": "stdout"
        }
      ]
    },
    {
      "cell_type": "code",
      "metadata": {
        "id": "extraordinary-extension"
      },
      "source": [
        "import numpy as np\n",
        "import tensorflow as tf \n",
        "import matplotlib.pyplot as plt\n",
        "import scipy.ndimage.interpolation"
      ],
      "id": "extraordinary-extension",
      "execution_count": 11,
      "outputs": []
    },
    {
      "cell_type": "code",
      "metadata": {
        "id": "suited-declaration"
      },
      "source": [
        "#Training PArams\n",
        "learning_rate = 0.0002\n",
        "batch_size = 32\n",
        "epochs = 100000\n",
        "\n",
        "#Network params\n",
        "image_dimension = 784 #img sz is 28x28\n",
        "#Discriminator Nodes\n",
        "H_dim = 128\n",
        "\n",
        "def xavier_init(shape):\n",
        "  return tf.random_normal(shape = shape, stddev= 1./tf.sqrt(shape[0]/2.0))"
      ],
      "id": "suited-declaration",
      "execution_count": 12,
      "outputs": []
    },
    {
      "cell_type": "code",
      "metadata": {
        "colab": {
          "base_uri": "https://localhost:8080/"
        },
        "id": "zcEoXxQRF3xu",
        "outputId": "2af768be-8db9-463e-ce81-81c34fc678b6"
      },
      "source": [
        "import tensorflow.compat.v1 as tf\r\n",
        "tf.disable_v2_behavior()"
      ],
      "id": "zcEoXxQRF3xu",
      "execution_count": 13,
      "outputs": [
        {
          "output_type": "stream",
          "text": [
            "WARNING:tensorflow:From /usr/local/lib/python3.7/dist-packages/tensorflow/python/compat/v2_compat.py:96: disable_resource_variables (from tensorflow.python.ops.variable_scope) is deprecated and will be removed in a future version.\n",
            "Instructions for updating:\n",
            "non-resource variables are not supported in the long term\n"
          ],
          "name": "stdout"
        }
      ]
    },
    {
      "cell_type": "code",
      "metadata": {
        "id": "pleased-pressing"
      },
      "source": [
        "#define placeholders for external input\n",
        "\n",
        "X_A = tf.placeholder(tf.float32, shape = [None, image_dimension])\n",
        "X_B = tf.placeholder(tf.float32, shape = [None, image_dimension])"
      ],
      "id": "pleased-pressing",
      "execution_count": 14,
      "outputs": []
    },
    {
      "cell_type": "code",
      "metadata": {
        "id": "pacific-newcastle"
      },
      "source": [
        "# Define weights and biases for dictionaries for Discriminator A\n",
        "\n",
        "Disc_A_W = { \"disc_H\" : tf.Variable(xavier_init([image_dimension, H_dim])),\n",
        "             \"disc_final\": tf.Variable(xavier_init([H_dim, 1]))}\n",
        "\n",
        "Disc_A_Bias = { \"disc_H\" : tf.Variable(xavier_init([H_dim])),\n",
        "             \"disc_final\": tf.Variable(xavier_init([1]))}\n",
        "\n",
        "\n",
        "# Define weights and biases for dictionaries for Discriminator B\n",
        "\n",
        "Disc_B_W = { \"disc_H\" : tf.Variable(xavier_init([image_dimension, H_dim])),\n",
        "             \"disc_final\": tf.Variable(xavier_init([H_dim, 1]))}\n",
        "\n",
        "Disc_B_Bias = { \"disc_H\" : tf.Variable(xavier_init([H_dim])),\n",
        "             \"disc_final\": tf.Variable(xavier_init([1]))}\n",
        "\n",
        "# Define weights and biases for dictionaries for Generator transforming A to B\n",
        "\n",
        "Gen_AB_W = { \"Gen_H\" : tf.Variable(xavier_init([image_dimension, H_dim])),\n",
        "             \"Gen_final\": tf.Variable(xavier_init([H_dim, image_dimension]))} #784 due to output dimension of the image\n",
        "\n",
        "Gen_AB_Bias = { \"Gen_H\" : tf.Variable(xavier_init([H_dim])),\n",
        "             \"Gen_final\": tf.Variable(xavier_init([image_dimension]))}\n",
        "\n",
        "\n",
        "# Define weights and biases for dictionaries for Generator transforming B to A\n",
        "Gen_BA_W = { \"Gen_H\" : tf.Variable(xavier_init([image_dimension, H_dim])),\n",
        "             \"Gen_final\": tf.Variable(xavier_init([H_dim, image_dimension]))}\n",
        "\n",
        "Gen_BA_Bias = { \"Gen_H\" : tf.Variable(xavier_init([H_dim])),\n",
        "             \"Gen_final\": tf.Variable(xavier_init([image_dimension]))}"
      ],
      "id": "pacific-newcastle",
      "execution_count": 15,
      "outputs": []
    },
    {
      "cell_type": "code",
      "metadata": {
        "id": "greater-kingdom"
      },
      "source": [
        "def Disc_A(x):\n",
        "  D_hidden_layer = tf.nn.relu(tf.add(tf.matmul(x, Disc_A_W[\"disc_H\"]), Disc_A_Bias[\"disc_H\"]))\n",
        "  disc_output = (tf.add(tf.matmul(D_hidden_layer, Disc_A_W[\"disc_final\"]), Disc_A_Bias[\"disc_final\"]))\n",
        "  disc_prob_output = tf.nn.sigmoid(disc_output)\n",
        "  return disc_prob_output\n",
        "\n",
        "def Disc_B(x):\n",
        "  D_hidden_layer = tf.nn.relu(tf.add(tf.matmul(x, Disc_B_W[\"disc_H\"]), Disc_B_Bias[\"disc_H\"]))\n",
        "  disc_output = (tf.add(tf.matmul(D_hidden_layer, Disc_B_W[\"disc_final\"]), Disc_B_Bias[\"disc_final\"]))\n",
        "  disc_prob_output = tf.nn.sigmoid(disc_output)\n",
        "  return disc_prob_output"
      ],
      "id": "greater-kingdom",
      "execution_count": 16,
      "outputs": []
    },
    {
      "cell_type": "code",
      "metadata": {
        "id": "superior-charity"
      },
      "source": [
        "#Generator NW\n",
        "def GenAB(x):\n",
        "  G_hidden_layer = tf.nn.relu(tf.add(tf.matmul(x, Gen_AB_W[\"Gen_H\"]), Gen_AB_Bias[\"Gen_H\"]))\n",
        "  Gen_output = (tf.add(tf.matmul(G_hidden_layer, Gen_AB_W[\"Gen_final\"]), Gen_AB_Bias[\"Gen_final\"]))\n",
        "  Gen_prob_output = tf.nn.sigmoid(Gen_output)\n",
        "  return Gen_prob_output\n",
        "\n",
        "def GenBA(x):\n",
        "  G_hidden_layer = tf.nn.relu(tf.add(tf.matmul(x, Gen_BA_W[\"Gen_H\"]), Gen_BA_Bias[\"Gen_H\"]))\n",
        "  Gen_output = (tf.add(tf.matmul(G_hidden_layer, Gen_BA_W[\"Gen_final\"]), Gen_BA_Bias[\"Gen_final\"]))\n",
        "  Gen_prob_output = tf.nn.sigmoid(Gen_output)\n",
        "  return Gen_prob_output"
      ],
      "id": "superior-charity",
      "execution_count": 17,
      "outputs": []
    },
    {
      "cell_type": "code",
      "metadata": {
        "id": "superior-episode"
      },
      "source": [
        "# building Cycle GAN NW\n",
        "\n",
        "# GAN for approximating A Distribution\n",
        "\n",
        "X_BA = GenBA(X_B)\n",
        "Disc_A_real = Disc_A(X_A)\n",
        "Disc_A_fake = Disc_A(X_BA)\n",
        "\n",
        "# GAN for approximating B Distribution\n",
        "X_AB = GenBA(X_A)\n",
        "Disc_B_real = Disc_A(X_B)\n",
        "Disc_B_fake = Disc_A(X_AB)\n"
      ],
      "id": "superior-episode",
      "execution_count": 18,
      "outputs": []
    },
    {
      "cell_type": "code",
      "metadata": {
        "id": "sapphire-consultation"
      },
      "source": [
        "# Discriminator Loss Functions\n",
        "\n",
        "Loss_Disc_A = (tf.reduce_mean(tf.square(Disc_A_real - tf.ones_like(Disc_A_real)) + tf.reduce_mean(tf.square(Disc_A_fake))))/2\n",
        "Loss_Disc_B = (tf.reduce_mean(tf.square(Disc_B_real - tf.ones_like(Disc_B_real)) + tf.reduce_mean(tf.square(Disc_B_fake))))/2\n",
        "\n",
        "Disc_Loss = Loss_Disc_A + Loss_Disc_B"
      ],
      "id": "sapphire-consultation",
      "execution_count": 19,
      "outputs": []
    },
    {
      "cell_type": "code",
      "metadata": {
        "id": "extreme-presence"
      },
      "source": [
        "# image reconstruction\n",
        "\n",
        "X_BAB = GenAB(X_BA)\n",
        "X_ABA = GenBA(X_AB)"
      ],
      "id": "extreme-presence",
      "execution_count": 20,
      "outputs": []
    },
    {
      "cell_type": "code",
      "metadata": {
        "id": "comfortable-reader"
      },
      "source": [
        "# Generator Loss function\n",
        "Loss_Gen_A = tf.reduce_mean(tf.square(Disc_B_fake - tf.ones_like(Disc_B_fake)))\n",
        "Loss_Gen_B = tf.reduce_mean(tf.square(Disc_A_fake - tf.ones_like(Disc_A_fake)))\n",
        "Loss_total = Loss_Gen_A + Loss_Gen_B\n",
        "\n",
        "# Reconstruction Loss\n",
        "\n",
        "Loss_recon_A = tf.reduce_mean(10*tf.abs((X_A-X_ABA)))\n",
        "Loss_recon_B = tf.reduce_mean(10*tf.abs((X_B-X_BAB)))\n",
        "Loss_recon_total = Loss_recon_A +Loss_recon_B\n",
        "\n",
        "Gen_Loss = Loss_total + Loss_recon_total"
      ],
      "id": "comfortable-reader",
      "execution_count": 21,
      "outputs": []
    },
    {
      "cell_type": "code",
      "metadata": {
        "id": "correct-saskatchewan"
      },
      "source": [
        "# parameters list of Discriminator\n",
        "\n",
        "Disc_param = [Disc_A_W['disc_H'], Disc_A_W[\"disc_final\"], Disc_A_Bias['disc_H'], Disc_A_Bias['disc_final'],\n",
        "              Disc_B_W['disc_H'], Disc_B_W['disc_final'],Disc_B_Bias['disc_H'], Disc_B_Bias['disc_final'] ]\n",
        "# parameters list of Gen\n",
        "Gen_param = [Gen_AB_W['Gen_H'], Gen_AB_W[\"Gen_final\"], Gen_AB_Bias['Gen_H'], Gen_AB_Bias['Gen_final'],\n",
        "            Gen_BA_W['Gen_H'], Gen_BA_W['Gen_final'],Gen_BA_Bias['Gen_H'], Gen_BA_Bias['Gen_final'] ]\n",
        "\n",
        "\n",
        "# Define the optimizer\n",
        "\n",
        "Gen_Optimize = tf.train.AdadeltaOptimizer(learning_rate=learning_rate).minimize(Gen_Loss, var_list = Gen_param)\n",
        "Disc_Optimize = tf.train.AdadeltaOptimizer(learning_rate=learning_rate).minimize(Disc_Loss, var_list = Disc_param)"
      ],
      "id": "correct-saskatchewan",
      "execution_count": 22,
      "outputs": []
    },
    {
      "cell_type": "code",
      "metadata": {
        "colab": {
          "base_uri": "https://localhost:8080/",
          "height": 35
        },
        "id": "supposed-format",
        "outputId": "1e18f298-74c3-47bf-9393-84ed9de4cff2"
      },
      "source": [
        "tf.__version__"
      ],
      "id": "supposed-format",
      "execution_count": 23,
      "outputs": [
        {
          "output_type": "execute_result",
          "data": {
            "application/vnd.google.colaboratory.intrinsic+json": {
              "type": "string"
            },
            "text/plain": [
              "'2.4.1'"
            ]
          },
          "metadata": {
            "tags": []
          },
          "execution_count": 23
        }
      ]
    },
    {
      "cell_type": "code",
      "metadata": {
        "colab": {
          "base_uri": "https://localhost:8080/"
        },
        "id": "regional-illustration",
        "outputId": "b9b29529-28b4-489f-f8c0-5f0455ec3403"
      },
      "source": [
        "!pip install tensorflow\n",
        "!pip install -q git+https://github.com/tensorflow/examples.git\n",
        "!ls"
      ],
      "id": "regional-illustration",
      "execution_count": 24,
      "outputs": [
        {
          "output_type": "stream",
          "text": [
            "Requirement already satisfied: tensorflow in /usr/local/lib/python3.7/dist-packages (2.4.1)\n",
            "Requirement already satisfied: gast==0.3.3 in /usr/local/lib/python3.7/dist-packages (from tensorflow) (0.3.3)\n",
            "Requirement already satisfied: opt-einsum~=3.3.0 in /usr/local/lib/python3.7/dist-packages (from tensorflow) (3.3.0)\n",
            "Requirement already satisfied: wheel~=0.35 in /usr/local/lib/python3.7/dist-packages (from tensorflow) (0.36.2)\n",
            "Requirement already satisfied: h5py~=2.10.0 in /usr/local/lib/python3.7/dist-packages (from tensorflow) (2.10.0)\n",
            "Requirement already satisfied: tensorflow-estimator<2.5.0,>=2.4.0 in /usr/local/lib/python3.7/dist-packages (from tensorflow) (2.4.0)\n",
            "Requirement already satisfied: absl-py~=0.10 in /usr/local/lib/python3.7/dist-packages (from tensorflow) (0.10.0)\n",
            "Requirement already satisfied: six~=1.15.0 in /usr/local/lib/python3.7/dist-packages (from tensorflow) (1.15.0)\n",
            "Requirement already satisfied: grpcio~=1.32.0 in /usr/local/lib/python3.7/dist-packages (from tensorflow) (1.32.0)\n",
            "Requirement already satisfied: tensorboard~=2.4 in /usr/local/lib/python3.7/dist-packages (from tensorflow) (2.4.1)\n",
            "Requirement already satisfied: termcolor~=1.1.0 in /usr/local/lib/python3.7/dist-packages (from tensorflow) (1.1.0)\n",
            "Requirement already satisfied: flatbuffers~=1.12.0 in /usr/local/lib/python3.7/dist-packages (from tensorflow) (1.12)\n",
            "Requirement already satisfied: astunparse~=1.6.3 in /usr/local/lib/python3.7/dist-packages (from tensorflow) (1.6.3)\n",
            "Requirement already satisfied: protobuf>=3.9.2 in /usr/local/lib/python3.7/dist-packages (from tensorflow) (3.12.4)\n",
            "Requirement already satisfied: typing-extensions~=3.7.4 in /usr/local/lib/python3.7/dist-packages (from tensorflow) (3.7.4.3)\n",
            "Requirement already satisfied: wrapt~=1.12.1 in /usr/local/lib/python3.7/dist-packages (from tensorflow) (1.12.1)\n",
            "Requirement already satisfied: google-pasta~=0.2 in /usr/local/lib/python3.7/dist-packages (from tensorflow) (0.2.0)\n",
            "Requirement already satisfied: keras-preprocessing~=1.1.2 in /usr/local/lib/python3.7/dist-packages (from tensorflow) (1.1.2)\n",
            "Requirement already satisfied: numpy~=1.19.2 in /usr/local/lib/python3.7/dist-packages (from tensorflow) (1.19.5)\n",
            "Requirement already satisfied: google-auth<2,>=1.6.3 in /usr/local/lib/python3.7/dist-packages (from tensorboard~=2.4->tensorflow) (1.27.1)\n",
            "Requirement already satisfied: markdown>=2.6.8 in /usr/local/lib/python3.7/dist-packages (from tensorboard~=2.4->tensorflow) (3.3.4)\n",
            "Requirement already satisfied: werkzeug>=0.11.15 in /usr/local/lib/python3.7/dist-packages (from tensorboard~=2.4->tensorflow) (1.0.1)\n",
            "Requirement already satisfied: google-auth-oauthlib<0.5,>=0.4.1 in /usr/local/lib/python3.7/dist-packages (from tensorboard~=2.4->tensorflow) (0.4.3)\n",
            "Requirement already satisfied: setuptools>=41.0.0 in /usr/local/lib/python3.7/dist-packages (from tensorboard~=2.4->tensorflow) (54.0.0)\n",
            "Requirement already satisfied: requests<3,>=2.21.0 in /usr/local/lib/python3.7/dist-packages (from tensorboard~=2.4->tensorflow) (2.23.0)\n",
            "Requirement already satisfied: tensorboard-plugin-wit>=1.6.0 in /usr/local/lib/python3.7/dist-packages (from tensorboard~=2.4->tensorflow) (1.8.0)\n",
            "Requirement already satisfied: rsa<5,>=3.1.4; python_version >= \"3.6\" in /usr/local/lib/python3.7/dist-packages (from google-auth<2,>=1.6.3->tensorboard~=2.4->tensorflow) (4.7.2)\n",
            "Requirement already satisfied: pyasn1-modules>=0.2.1 in /usr/local/lib/python3.7/dist-packages (from google-auth<2,>=1.6.3->tensorboard~=2.4->tensorflow) (0.2.8)\n",
            "Requirement already satisfied: cachetools<5.0,>=2.0.0 in /usr/local/lib/python3.7/dist-packages (from google-auth<2,>=1.6.3->tensorboard~=2.4->tensorflow) (4.2.1)\n",
            "Requirement already satisfied: importlib-metadata; python_version < \"3.8\" in /usr/local/lib/python3.7/dist-packages (from markdown>=2.6.8->tensorboard~=2.4->tensorflow) (3.7.0)\n",
            "Requirement already satisfied: requests-oauthlib>=0.7.0 in /usr/local/lib/python3.7/dist-packages (from google-auth-oauthlib<0.5,>=0.4.1->tensorboard~=2.4->tensorflow) (1.3.0)\n",
            "Requirement already satisfied: idna<3,>=2.5 in /usr/local/lib/python3.7/dist-packages (from requests<3,>=2.21.0->tensorboard~=2.4->tensorflow) (2.10)\n",
            "Requirement already satisfied: chardet<4,>=3.0.2 in /usr/local/lib/python3.7/dist-packages (from requests<3,>=2.21.0->tensorboard~=2.4->tensorflow) (3.0.4)\n",
            "Requirement already satisfied: certifi>=2017.4.17 in /usr/local/lib/python3.7/dist-packages (from requests<3,>=2.21.0->tensorboard~=2.4->tensorflow) (2020.12.5)\n",
            "Requirement already satisfied: urllib3!=1.25.0,!=1.25.1,<1.26,>=1.21.1 in /usr/local/lib/python3.7/dist-packages (from requests<3,>=2.21.0->tensorboard~=2.4->tensorflow) (1.24.3)\n",
            "Requirement already satisfied: pyasn1>=0.1.3 in /usr/local/lib/python3.7/dist-packages (from rsa<5,>=3.1.4; python_version >= \"3.6\"->google-auth<2,>=1.6.3->tensorboard~=2.4->tensorflow) (0.4.8)\n",
            "Requirement already satisfied: zipp>=0.5 in /usr/local/lib/python3.7/dist-packages (from importlib-metadata; python_version < \"3.8\"->markdown>=2.6.8->tensorboard~=2.4->tensorflow) (3.4.1)\n",
            "Requirement already satisfied: oauthlib>=3.0.0 in /usr/local/lib/python3.7/dist-packages (from requests-oauthlib>=0.7.0->google-auth-oauthlib<0.5,>=0.4.1->tensorboard~=2.4->tensorflow) (3.1.0)\n",
            "  Building wheel for tensorflow-examples (setup.py) ... \u001b[?25l\u001b[?25hdone\n",
            "New-Project-25.jpg  New-Project-25.jpg.1  New-Project-25.jpg.2\tsample_data\n"
          ],
          "name": "stdout"
        }
      ]
    },
    {
      "cell_type": "code",
      "metadata": {
        "colab": {
          "base_uri": "https://localhost:8080/",
          "height": 208,
          "referenced_widgets": [
            "3b29e53b2cf544c58f01f4ba919a283a",
            "dd633de9d42c469bac1b9b6f08b43e7d",
            "f3d623f12fb44736a73b860f3fa35fbd",
            "31acf36facab4070b693abc3430fbd00",
            "0d7bbfbe727f45a2ab989449e20268f3",
            "09549f39f3874a6e8ae2e82e9d3aa053",
            "946be4fbaef940988e2fa474b6bc4f39",
            "fa4e55d35d8d4f62bf7409bd558f3127"
          ]
        },
        "id": "fu4LZvM2GUTR",
        "outputId": "1dbf8240-5aaa-4a3c-9420-504a6b8c7b7d"
      },
      "source": [
        "import tensorflow_datasets\r\n",
        "mnist = tensorflow_datasets.load('mnist')"
      ],
      "id": "fu4LZvM2GUTR",
      "execution_count": 26,
      "outputs": [
        {
          "output_type": "stream",
          "text": [
            "\u001b[1mDownloading and preparing dataset mnist/3.0.1 (download: 11.06 MiB, generated: 21.00 MiB, total: 32.06 MiB) to /root/tensorflow_datasets/mnist/3.0.1...\u001b[0m\n"
          ],
          "name": "stdout"
        },
        {
          "output_type": "stream",
          "text": [
            "WARNING:absl:Dataset mnist is hosted on GCS. It will automatically be downloaded to your\n",
            "local data directory. If you'd instead prefer to read directly from our public\n",
            "GCS bucket (recommended if you're running on GCP), you can instead pass\n",
            "`try_gcs=True` to `tfds.load` or set `data_dir=gs://tfds-data/datasets`.\n",
            "\n"
          ],
          "name": "stderr"
        },
        {
          "output_type": "display_data",
          "data": {
            "application/vnd.jupyter.widget-view+json": {
              "model_id": "3b29e53b2cf544c58f01f4ba919a283a",
              "version_minor": 0,
              "version_major": 2
            },
            "text/plain": [
              "HBox(children=(FloatProgress(value=0.0, description='Dl Completed...', max=4.0, style=ProgressStyle(descriptio…"
            ]
          },
          "metadata": {
            "tags": []
          }
        },
        {
          "output_type": "stream",
          "text": [
            "\n",
            "\n",
            "\u001b[1mDataset mnist downloaded and prepared to /root/tensorflow_datasets/mnist/3.0.1. Subsequent calls will reuse this data.\u001b[0m\n"
          ],
          "name": "stdout"
        }
      ]
    },
    {
      "cell_type": "code",
      "metadata": {
        "id": "honey-violence"
      },
      "source": [
        "!mkdir MNIST_Fashion\n",
        "!cp *.gz MNIST_Fashion/\n",
        "# import input_data\n",
        "import tensorflow_datasets\n",
        "mnist = tensorflow_datasets.load('mnist')\n",
        "\n",
        "X_train = mnist.train.images\n",
        "mid = int(X_train.shape[0]/2)\n",
        "\n",
        "# Real Images Dataset 1\n",
        "X_train_real = X_train[:mid]\n",
        "\n",
        "# Rotated images Dataset 2\n",
        "X_train_rot = X_train[mid:].reshape(-1,28,28)\n",
        "X_train_rot = scipy.ndimage.interpolation.rotate(X_train_rot, 90, axes = (1,2))\n",
        "X_train_rot = X_train_rot.reshape(-1,28*28)\n",
        "\n",
        "# random shuffling\n",
        "\n",
        "def shuffle_data(x, size):\n",
        "  start_index = np.random.randint(0, x.shape[0]-size)\n",
        "  return x[start_index:start_index+size]"
      ],
      "id": "honey-violence",
      "execution_count": null,
      "outputs": []
    },
    {
      "cell_type": "code",
      "metadata": {
        "id": "frank-occasion"
      },
      "source": [
        "# Initialize the variables\n",
        "\n",
        "init = tf.global_variables_initializer()\n",
        "\n",
        "sess = tf.Session()\n",
        "sess.run(init)\n",
        "\n",
        "for epoch in range(epochs):\n",
        "  X_A_batch = shuffle_data(X_train_real, batch_size)\n",
        "  X_B_batch = shuffle_data(X_train_rot, batch_size)\n",
        "\n",
        "  _, Disc_loss_epoch = sess.run([Disc_Optimize, Disc_Loss], feed_dict = {X_A:X_A_batch, X_B:X_B_batch})\n",
        "  _, Gen_loss_epoch = sess.run([Gen_Optimize, Gen_Loss], feed_dict = {X_A:X_A_batch, X_B:X_B_batch})\n",
        "\n",
        "  if epoch % 2000 == 0:\n",
        "    print(\"steps: {0}, Disc loss; {1}, Gen Loss: {2}\".format(epoch, Disc_loss_epoch, Gen_loss_epoch))"
      ],
      "id": "frank-occasion",
      "execution_count": null,
      "outputs": []
    },
    {
      "cell_type": "code",
      "metadata": {
        "id": "entertaining-overview"
      },
      "source": [
        "#testing\n",
        "n = 6\n",
        "canvas1 = np.empty((28*n, 28*n))\n",
        "canvas2 = np.empty((28*n, 28*n))\n",
        "\n",
        "for i in range(n):\n",
        "  test_A = shuffle_data(X_train_real, batch_size)\n",
        "  test_B = shuffle_data(X_train_rot, batch_size)\n",
        "\n",
        "  # Generate A images from B\n",
        "  out_A = sess.run(X_BA, feed_dict={X_B: test_B})\n",
        "\n",
        "  # Generate B images from A\n",
        "  out_B = sess.run(X_AB, feed_dict={X_A: test_A})\n",
        "  \n",
        "  for j in range(n):\n",
        "    # Draw the Generated Digits\n",
        "    canvas1[i*28: (i + 1) *28, j* 28:(j+1) *28] = out_A[j].reshape([28,28])\n",
        "\n",
        "  for j in range(n):\n",
        "    # Draw the Generated Digits\n",
        "    canvas2[i*28: (i + 1) *28, j* 28:(j+1) *28] = out_B[j].reshape([28,28])\n",
        "\n",
        "# One way of displaying\n",
        "plt.figure(figsize=(n, n))\n",
        "plt.imshow(canvas1, origin = \"upper\", cmap = \"gray\")\n",
        "plt.show()\n",
        "\n",
        "plt.figure(figsize = (n,n))\n",
        "plt.imshow(canvas2, origin=\"upper\", cmap=\"gray\")\n",
        "plt.show()"
      ],
      "id": "entertaining-overview",
      "execution_count": null,
      "outputs": []
    },
    {
      "cell_type": "code",
      "metadata": {
        "id": "enabling-electricity"
      },
      "source": [
        ""
      ],
      "id": "enabling-electricity",
      "execution_count": null,
      "outputs": []
    }
  ]
}